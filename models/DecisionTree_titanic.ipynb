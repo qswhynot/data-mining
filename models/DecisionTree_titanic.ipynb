{
 "cells": [
  {
   "cell_type": "code",
   "execution_count": 1,
   "metadata": {},
   "outputs": [],
   "source": [
    "import pandas as pd\n",
    "import numpy as np\n",
    "from sklearn.feature_extraction import DictVectorizer\n",
    "from sklearn.tree import DecisionTreeClassifier"
   ]
  },
  {
   "cell_type": "markdown",
   "metadata": {},
   "source": [
    "# 数据加载"
   ]
  },
  {
   "cell_type": "code",
   "execution_count": 2,
   "metadata": {},
   "outputs": [],
   "source": [
    "train_data=pd.read_csv(r'../data/Titanic_Data/train.csv')\n",
    "test_data=pd.read_csv(r'../data/Titanic_Data/test.csv')"
   ]
  },
  {
   "cell_type": "markdown",
   "metadata": {},
   "source": [
    "# 数据预览"
   ]
  },
  {
   "cell_type": "code",
   "execution_count": 3,
   "metadata": {},
   "outputs": [
    {
     "name": "stdout",
     "output_type": "stream",
     "text": [
      "<class 'pandas.core.frame.DataFrame'>\n",
      "RangeIndex: 891 entries, 0 to 890\n",
      "Data columns (total 12 columns):\n",
      "PassengerId    891 non-null int64\n",
      "Survived       891 non-null int64\n",
      "Pclass         891 non-null int64\n",
      "Name           891 non-null object\n",
      "Sex            891 non-null object\n",
      "Age            714 non-null float64\n",
      "SibSp          891 non-null int64\n",
      "Parch          891 non-null int64\n",
      "Ticket         891 non-null object\n",
      "Fare           891 non-null float64\n",
      "Cabin          204 non-null object\n",
      "Embarked       889 non-null object\n",
      "dtypes: float64(2), int64(5), object(5)\n",
      "memory usage: 83.6+ KB\n",
      "None\n",
      "------------------------------\n",
      "       PassengerId    Survived      Pclass         Age       SibSp  \\\n",
      "count   891.000000  891.000000  891.000000  714.000000  891.000000   \n",
      "mean    446.000000    0.383838    2.308642   29.699118    0.523008   \n",
      "std     257.353842    0.486592    0.836071   14.526497    1.102743   \n",
      "min       1.000000    0.000000    1.000000    0.420000    0.000000   \n",
      "25%     223.500000    0.000000    2.000000   20.125000    0.000000   \n",
      "50%     446.000000    0.000000    3.000000   28.000000    0.000000   \n",
      "75%     668.500000    1.000000    3.000000   38.000000    1.000000   \n",
      "max     891.000000    1.000000    3.000000   80.000000    8.000000   \n",
      "\n",
      "            Parch        Fare  \n",
      "count  891.000000  891.000000  \n",
      "mean     0.381594   32.204208  \n",
      "std      0.806057   49.693429  \n",
      "min      0.000000    0.000000  \n",
      "25%      0.000000    7.910400  \n",
      "50%      0.000000   14.454200  \n",
      "75%      0.000000   31.000000  \n",
      "max      6.000000  512.329200  \n",
      "------------------------------\n",
      "   PassengerId  Survived  Pclass  \\\n",
      "0            1         0       3   \n",
      "1            2         1       1   \n",
      "2            3         1       3   \n",
      "3            4         1       1   \n",
      "4            5         0       3   \n",
      "\n",
      "                                                Name     Sex   Age  SibSp  \\\n",
      "0                            Braund, Mr. Owen Harris    male  22.0      1   \n",
      "1  Cumings, Mrs. John Bradley (Florence Briggs Th...  female  38.0      1   \n",
      "2                             Heikkinen, Miss. Laina  female  26.0      0   \n",
      "3       Futrelle, Mrs. Jacques Heath (Lily May Peel)  female  35.0      1   \n",
      "4                           Allen, Mr. William Henry    male  35.0      0   \n",
      "\n",
      "   Parch            Ticket     Fare Cabin Embarked  \n",
      "0      0         A/5 21171   7.2500   NaN        S  \n",
      "1      0          PC 17599  71.2833   C85        C  \n",
      "2      0  STON/O2. 3101282   7.9250   NaN        S  \n",
      "3      0            113803  53.1000  C123        S  \n",
      "4      0            373450   8.0500   NaN        S  \n"
     ]
    }
   ],
   "source": [
    "print(train_data.info())  #使用 info() 了解数据表的基本情况：行数、列数、每列的数据类型、数据完整度；\n",
    "print('-'*30)\n",
    "print(train_data.describe()) #使用 describe() 了解数据表的统计情况：总数、平均值、标准差、最小值、最大值等\n",
    "print('-'*30)\n",
    "# print(train_data.describe(include=['O'])) #使用 describe(include=[‘O’]) 查看字符串类型（非数字）的整体情况\n",
    "# print('-'*30)\n",
    "print(train_data.head())  #使用 head 查看前几行数据（默认是前 5 行）\n",
    "# print('-'*30)\n",
    "# print(train_data.tail())  #使用 tail 查看后几行数据（默认是最后 5 行）"
   ]
  },
  {
   "cell_type": "markdown",
   "metadata": {},
   "source": [
    "# 数据预处理\n",
    "数据集中包括12列，代表12个特征；\n",
    "所有的特征并不全是对分类有用的，同时有些特征存在nan缺失"
   ]
  },
  {
   "cell_type": "code",
   "execution_count": 4,
   "metadata": {},
   "outputs": [
    {
     "name": "stdout",
     "output_type": "stream",
     "text": [
      "S    644\n",
      "C    168\n",
      "Q     77\n",
      "Name: Embarked, dtype: int64\n"
     ]
    }
   ],
   "source": [
    "# 使用平均年龄来填充年龄中的 nan 值\n",
    "train_data['Age'].fillna(train_data['Age'].mean(), inplace=True)\n",
    "test_data['Age'].fillna(test_data['Age'].mean(),inplace=True)\n",
    "# 使用票价的均值填充票价中的 nan 值\n",
    "train_data['Fare'].fillna(train_data['Fare'].mean(), inplace=True)\n",
    "test_data['Fare'].fillna(test_data['Fare'].mean(),inplace=True)\n",
    "print(train_data['Embarked'].value_counts())\n",
    "\n",
    "# 使用登录最多的港口来填充登录港口的 nan 值\n",
    "train_data['Embarked'].fillna('S', inplace=True)\n",
    "test_data['Embarked'].fillna('S',inplace=True)"
   ]
  },
  {
   "cell_type": "markdown",
   "metadata": {},
   "source": [
    "# 特征选择\n",
    "Passenger Id 为乘客编号，对分类没有作用，可以放弃；Name\n",
    "为乘客姓名，对分类没有作用，可以放弃；Cabin 字段缺失值太多，可以放弃；Ticket 字\n",
    "段为船票号码，杂乱无章且无规律，可以放弃。其余的字段包括：Pclass、Sex、Age、\n",
    "SibSp、Parch 和 Fare，这些属性分别表示了乘客的船票等级、性别、年龄、亲戚数量以\n",
    "及船票价格，可能会和乘客的生存预测分类有关系。"
   ]
  },
  {
   "cell_type": "code",
   "execution_count": 5,
   "metadata": {},
   "outputs": [
    {
     "name": "stdout",
     "output_type": "stream",
     "text": [
      "     Pclass     Sex        Age  SibSp  Parch      Fare Embarked\n",
      "0         3    male  22.000000      1      0    7.2500        S\n",
      "1         1  female  38.000000      1      0   71.2833        C\n",
      "2         3  female  26.000000      0      0    7.9250        S\n",
      "3         1  female  35.000000      1      0   53.1000        S\n",
      "4         3    male  35.000000      0      0    8.0500        S\n",
      "5         3    male  29.699118      0      0    8.4583        Q\n",
      "6         1    male  54.000000      0      0   51.8625        S\n",
      "7         3    male   2.000000      3      1   21.0750        S\n",
      "8         3  female  27.000000      0      2   11.1333        S\n",
      "9         2  female  14.000000      1      0   30.0708        C\n",
      "10        3  female   4.000000      1      1   16.7000        S\n",
      "11        1  female  58.000000      0      0   26.5500        S\n",
      "12        3    male  20.000000      0      0    8.0500        S\n",
      "13        3    male  39.000000      1      5   31.2750        S\n",
      "14        3  female  14.000000      0      0    7.8542        S\n",
      "15        2  female  55.000000      0      0   16.0000        S\n",
      "16        3    male   2.000000      4      1   29.1250        Q\n",
      "17        2    male  29.699118      0      0   13.0000        S\n",
      "18        3  female  31.000000      1      0   18.0000        S\n",
      "19        3  female  29.699118      0      0    7.2250        C\n",
      "20        2    male  35.000000      0      0   26.0000        S\n",
      "21        2    male  34.000000      0      0   13.0000        S\n",
      "22        3  female  15.000000      0      0    8.0292        Q\n",
      "23        1    male  28.000000      0      0   35.5000        S\n",
      "24        3  female   8.000000      3      1   21.0750        S\n",
      "25        3  female  38.000000      1      5   31.3875        S\n",
      "26        3    male  29.699118      0      0    7.2250        C\n",
      "27        1    male  19.000000      3      2  263.0000        S\n",
      "28        3  female  29.699118      0      0    7.8792        Q\n",
      "29        3    male  29.699118      0      0    7.8958        S\n",
      "..      ...     ...        ...    ...    ...       ...      ...\n",
      "861       2    male  21.000000      1      0   11.5000        S\n",
      "862       1  female  48.000000      0      0   25.9292        S\n",
      "863       3  female  29.699118      8      2   69.5500        S\n",
      "864       2    male  24.000000      0      0   13.0000        S\n",
      "865       2  female  42.000000      0      0   13.0000        S\n",
      "866       2  female  27.000000      1      0   13.8583        C\n",
      "867       1    male  31.000000      0      0   50.4958        S\n",
      "868       3    male  29.699118      0      0    9.5000        S\n",
      "869       3    male   4.000000      1      1   11.1333        S\n",
      "870       3    male  26.000000      0      0    7.8958        S\n",
      "871       1  female  47.000000      1      1   52.5542        S\n",
      "872       1    male  33.000000      0      0    5.0000        S\n",
      "873       3    male  47.000000      0      0    9.0000        S\n",
      "874       2  female  28.000000      1      0   24.0000        C\n",
      "875       3  female  15.000000      0      0    7.2250        C\n",
      "876       3    male  20.000000      0      0    9.8458        S\n",
      "877       3    male  19.000000      0      0    7.8958        S\n",
      "878       3    male  29.699118      0      0    7.8958        S\n",
      "879       1  female  56.000000      0      1   83.1583        C\n",
      "880       2  female  25.000000      0      1   26.0000        S\n",
      "881       3    male  33.000000      0      0    7.8958        S\n",
      "882       3  female  22.000000      0      0   10.5167        S\n",
      "883       2    male  28.000000      0      0   10.5000        S\n",
      "884       3    male  25.000000      0      0    7.0500        S\n",
      "885       3  female  39.000000      0      5   29.1250        Q\n",
      "886       2    male  27.000000      0      0   13.0000        S\n",
      "887       1  female  19.000000      0      0   30.0000        S\n",
      "888       3  female  29.699118      1      2   23.4500        S\n",
      "889       1    male  26.000000      0      0   30.0000        C\n",
      "890       3    male  32.000000      0      0    7.7500        Q\n",
      "\n",
      "[891 rows x 7 columns]\n"
     ]
    }
   ],
   "source": [
    "features = ['Pclass', 'Sex', 'Age', 'SibSp', 'Parch', 'Fare', 'Embarked']\n",
    "train_features = train_data[features]\n",
    "print(train_features)\n",
    "train_labels = train_data['Survived']\n",
    "test_features = test_data[features]"
   ]
  },
  {
   "cell_type": "markdown",
   "metadata": {},
   "source": [
    "特征值里有一些是字符串，这样不方便后续的运算，需要转成数值类型，比如 Sex 字段，\n",
    "有 male 和 female 两种取值。我们可以把它变成 Sex=male 和 Sex=female 两个字段，\n",
    "数值用 0 或 1 来表示。"
   ]
  },
  {
   "cell_type": "code",
   "execution_count": 6,
   "metadata": {},
   "outputs": [
    {
     "name": "stdout",
     "output_type": "stream",
     "text": [
      "[[22.          0.          0.         ...  0.          1.\n",
      "   1.        ]\n",
      " [38.          1.          0.         ...  1.          0.\n",
      "   1.        ]\n",
      " [26.          0.          0.         ...  1.          0.\n",
      "   0.        ]\n",
      " ...\n",
      " [29.69911765  0.          0.         ...  1.          0.\n",
      "   1.        ]\n",
      " [26.          1.          0.         ...  0.          1.\n",
      "   0.        ]\n",
      " [32.          0.          1.         ...  0.          1.\n",
      "   0.        ]]\n"
     ]
    }
   ],
   "source": [
    "dvec=DictVectorizer(sparse=False)\n",
    "train_features=dvec.fit_transform(train_features.to_dict(orient='record'))\n",
    "test_features=dvec.transform(test_features.to_dict(orient='record'))\n",
    "print(train_features)"
   ]
  },
  {
   "cell_type": "markdown",
   "metadata": {},
   "source": [
    "# 构造决策树"
   ]
  },
  {
   "cell_type": "code",
   "execution_count": 7,
   "metadata": {},
   "outputs": [
    {
     "name": "stdout",
     "output_type": "stream",
     "text": [
      "score 准确率为 0.9820\n"
     ]
    }
   ],
   "source": [
    "# clf = DecisionTreeClassifier(criterion='entropy')\n",
    "clf = DecisionTreeClassifier(criterion='gini')  #分类标准对于不同的决策树算法\n",
    "# 决策树训练\n",
    "clf.fit(train_features, train_labels)\n",
    "\n",
    "# 决策树预测\n",
    "pred_labels = clf.predict(test_features)\n",
    "\n",
    "# 得到决策树准确率\n",
    "acc_decision_tree = round(clf.score(train_features, train_labels), 6)\n",
    "print(u'score 准确率为 %.4lf' % acc_decision_tree)"
   ]
  },
  {
   "cell_type": "markdown",
   "metadata": {},
   "source": [
    "# 交叉验证"
   ]
  },
  {
   "cell_type": "code",
   "execution_count": 8,
   "metadata": {},
   "outputs": [
    {
     "name": "stdout",
     "output_type": "stream",
     "text": [
      "cross_val_score 准确率为 0.7824\n"
     ]
    }
   ],
   "source": [
    "from sklearn.model_selection import cross_val_score\n",
    "# 使用 K 折交叉验证 统计决策树准确率\n",
    "print(u'cross_val_score 准确率为 %.4lf' % np.mean(cross_val_score(clf, train_features, train_labels, cv=10)))"
   ]
  }
 ],
 "metadata": {
  "kernelspec": {
   "display_name": "py36",
   "language": "python",
   "name": "py36"
  },
  "language_info": {
   "codemirror_mode": {
    "name": "ipython",
    "version": 3
   },
   "file_extension": ".py",
   "mimetype": "text/x-python",
   "name": "python",
   "nbconvert_exporter": "python",
   "pygments_lexer": "ipython3",
   "version": "3.6.8"
  }
 },
 "nbformat": 4,
 "nbformat_minor": 2
}
