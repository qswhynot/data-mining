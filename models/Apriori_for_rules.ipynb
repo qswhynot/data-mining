{
 "cells": [
  {
   "cell_type": "markdown",
   "metadata": {},
   "source": [
    "# Apriori算法挖掘导演选择演员的规则"
   ]
  },
  {
   "cell_type": "raw",
   "metadata": {},
   "source": [
    "在豆瓣网上爬取宁财神导演所有影片的演员\n",
    "然后基于支持度通过Apriori算法找出演员表中的频繁项集\n",
    "通过频繁项集得到强关联规则"
   ]
  },
  {
   "cell_type": "code",
   "execution_count": 1,
   "metadata": {},
   "outputs": [],
   "source": [
    "from efficient_apriori import apriori\n",
    "from lxml import etree\n",
    "import time\n",
    "from selenium import webdriver\n",
    "import csv"
   ]
  },
  {
   "cell_type": "markdown",
   "metadata": {},
   "source": [
    "# 爬取豆瓣网数据"
   ]
  },
  {
   "cell_type": "code",
   "execution_count": 2,
   "metadata": {},
   "outputs": [],
   "source": [
    "# 下载指定页面的数据\n",
    "def download(request_url):\n",
    "    driver.get(request_url)\n",
    "    time.sleep(1)\n",
    "    html = driver.find_element_by_xpath(\"//*\").get_attribute(\"outerHTML\")\n",
    "    html = etree.HTML(html)\n",
    "    # 设置电影名称，导演演员 的 XPATH\n",
    "    movie_lists = html.xpath(\"/html/body/div[@id='wrapper']/div[@id='root']/div[1]//div[@class='item-root']/div[@class='detail']/div[@class='title']/a[@class='title-text']\")\n",
    "    name_lists = html.xpath(\"/html/body/div[@id='wrapper']/div[@id='root']/div[1]//div[@class='item-root']/div[@class='detail']/div[@class='meta abstract_2']\")\n",
    "    # 获取返回的数据个数\n",
    "    num = len(movie_lists)\n",
    "    if num > 15: # 第一页会有 16 条数据\n",
    "        # 默认第一个不是，所以需要去掉\n",
    "        movie_lists = movie_lists[1:]\n",
    "        name_lists = name_lists[1:]\n",
    "    for (movie, name_list) in zip(movie_lists, name_lists):\n",
    "        # 会存在数据为空的情况\n",
    "        if name_list.text is None: \n",
    "            continue\n",
    "        # 显示下演员名称\n",
    "        print(name_list.text)\n",
    "        names = name_list.text.split('/')\n",
    "        # 判断导演是否为指定的 director\n",
    "        if names[0].strip() == director and movie.text not in flags:\n",
    "            # 将第一个字段设置为电影名称\n",
    "            names[0] = movie.text\n",
    "            flags.append(movie.text)\n",
    "            csv_write.writerow(names)\n",
    "    print('OK') # 代表这页数据下载成功\n",
    "    print(num)\n",
    "    if num >= 14: # 有可能一页会有 14 个电影\n",
    "        # 继续下一页\n",
    "        return True\n",
    "    else:\n",
    "        # 没有下一页\n",
    "        return False"
   ]
  },
  {
   "cell_type": "code",
   "execution_count": 3,
   "metadata": {},
   "outputs": [],
   "source": [
    "driver = webdriver.Firefox()\n",
    "# 设置想要下载的导演 数据集\n",
    "director = u'宁浩'\n",
    "# 写 CSV 文件\n",
    "file_name = '../data/' + director + '.csv'\n",
    "base_url = 'https://movie.douban.com/subject_search?search_text='+director+'&cat=1002&start='\n",
    "out = open(file_name,'w', newline='', encoding='utf-8-sig')\n",
    "csv_write = csv.writer(out, dialect='excel')\n",
    "flags=[]"
   ]
  },
  {
   "cell_type": "code",
   "execution_count": 4,
   "metadata": {},
   "outputs": [
    {
     "name": "stdout",
     "output_type": "stream",
     "text": [
      "郭帆 / 屈楚萧 / 吴京 / 李光洁 / 吴孟达 / 赵今麦 / 隋凯 / 屈菁菁 / 张亦驰\n",
      "文牧野 / 徐峥 / 王传君 / 周一围 / 谭卓 / 章宇 / 杨新鸣 / 王佳佳 / 王砚辉\n",
      "宁浩 / 黄渤 / 沈腾 / 汤姆·派福瑞 / 马修·莫里森 / 徐峥 / 于和伟 / 雷佳音 / 刘桦\n",
      "黄渤 / 舒淇 / 王宝强 / 张艺兴 / 于和伟 / 王迅 / 李勤勤 / 李又麟\n",
      "宁浩 / 郭涛 / 刘桦 / 连晋 / 黄渤 / 徐峥 / 优恵 / 罗兰  / 王迅\n",
      "管虎 / 冯小刚 / 许晴 / 张涵予 / 刘桦 / 李易峰 / 吴亦凡 / 梁静 / 白举纲\n",
      "宁浩 / 徐峥 / 黄渤 / 余男 / 多布杰 / 王双宝 / 巴多 / 杨新鸣 / 郭虹\n",
      "宁浩 / 黄渤 / 徐峥 / 袁泉 / 周冬雨 / 陶慧 / 岳小军 / 沈腾 / 张俪\n",
      "宁浩 / 黄渤 / 戎祥 / 九孔 / 徐峥 / 王双宝 / 巴多 / 董立范 / 高捷\n",
      "许鞍华 / 叶德娴 / 刘德华 / 秦海璐 / 秦沛 / 黄秋生 / 王馥荔 / 朱慧敏 / 江美仪\n",
      "丁晟 / 王凯 / 马天宇 / 王大陆 / 余皑磊 / 林雪 / 吴樾 / 李梦 / 张艺上\n",
      "宁浩 / 雷佳音 / 陶虹 / 程媛媛 / 山崎敬一 / 郭涛 / 范伟 / 孙淳 / 刘桦\n",
      "张一白 / 李亚鹏 / 徐静蕾 / 王学兵 / 何洁 / 程伊 / 崔达治 / 优恵 / 陈明\n",
      "陈凯歌 / 张一白 / 管虎 / 薛晓路 / 徐峥 / 宁浩 / 文牧野 / 葛优 / 黄渤 / 任达华 / 王天辰 / 佟丽娅 / 张嘉译 / 张译 / 王千源\n",
      "毕蜂 / 窦文涛 / 梁文道 / 许子东 / 马家辉 / 竹幼婷 / 查建英 / 周轶君 / 林玮婕\n",
      "OK\n",
      "16\n",
      "乌尔善 / 安藤政信 / 张雨绮 / 游本昌 / 刘晓晔 / 徐冲 / 韩鹏翼 / 刘桦 / 宁浩\n",
      "宁浩 / 李强\n",
      "叶烽 / 王自健 / 中孝介 / 宁浩 / 李东学 / 黄龄 / 宋丹丹 / 王雷 / 范明\n",
      "黄渤 / 舒淇 / 王宝强 / 张艺兴 / 于和伟 / 王迅 / 李勤勤 / 李又麟\n",
      "宁浩 / 黄渤 / 王玮 / 聂鑫 / 王迅 / 岳小军\n",
      "宁浩 / 达瓦 / 毕力格 / 戈利班\n",
      "牛涵 / 徐帆 / 卢靖姗 / 艾莉克希娅·拉斯姆森 / 黄经汉 / 朱珠 / 田沅 / 徐刚 / 薛宝鹤\n",
      "钟澍佳 / 杜淳 / 马苏 / 李若嘉 / 武强 / 王德顺 / 李亚天 / 谢园 / 张殿伦\n",
      "宁浩 / 关宇 / 傅羽鸽 / 常爱军 / 郝宜珊\n",
      "何澍培 / 何晟铭 / 蒋梦婕 / 高洋 / 吕佳容 / 王琳 / 汤镇业 / 汤镇宗 / 吴岱融\n",
      "宁浩 / 蔡鹭 / 毕秀茹 / 唐笑笑\n",
      "谢晋 / 陈凯歌 / 关锦鹏 / 侯咏 / 陆川 / 宁浩 / 张一白 / 王光利 / 黄蜀芹 / 王小帅 / 顾长卫 / 陈家林 / 姚明 / 刘璇 / 郭富城 / 孙俪 / 陶红 / 范伟 / 蒋勤勤 / 林保怡\n",
      "宁浩\n",
      "陈可辛 / 郭富城 / 周迅 / 吴景滔 / 谢欣颖 / 张睿家 / 宁浩 / 宁岱\n",
      "温仕培 / 彭于晏 / 张艾嘉 / 王砚辉 / 姜珮瑶\n",
      "OK\n",
      "15\n",
      "张扬 / 雷佳音 / 周冬雨 / 陈赫 / 陶虹 / 郭涛 / 郭子睿 / 刘仪伟 / 沈腾\n",
      "李凯 / 吴镇宇 / 林雪 / 颖儿 / 王太利 / 连晋 / 彭波\n",
      "轩南 / 宋运成 / 陈小妹\n",
      "吴宇森 / 宁浩 / 陆川 / 玛莉亚·嘉西亚·古欣娜塔 / 费利普·弥勒 / 拉吉库马尔·希拉尼 / 安德鲁斯·文森特·戈麦斯 / 瑞奇·梅塔\n",
      "王小帅 / 李少红 / 徐静蕾 / 薛晓路 / 贾樟柯 / 陆川 / 宁浩 / 万玛才旦\n",
      "张昊 / 王大龙 / 江海 / 秦帅 / 王笑意 / 姚月 / 卫鹏程 / 张嘉祺 / 江涛\n",
      "OK\n",
      "7\n",
      "finished\n"
     ]
    }
   ],
   "source": [
    "# 开始的 ID 为 0，每页增加 15\n",
    "start = 0\n",
    "while start<10000: # 最多抽取 1 万部电影\n",
    "    request_url = base_url + str(start)\n",
    "    # 下载数据，并返回是否有下一页\n",
    "    flag = download(request_url)\n",
    "    if flag:\n",
    "        start = start + 15\n",
    "    else:\n",
    "        break\n",
    "out.close()\n",
    "print('finished')"
   ]
  },
  {
   "cell_type": "markdown",
   "metadata": {},
   "source": [
    "# Apriori算法挖掘频繁项集和关联规则"
   ]
  },
  {
   "cell_type": "code",
   "execution_count": 5,
   "metadata": {},
   "outputs": [
    {
     "name": "stdout",
     "output_type": "stream",
     "text": [
      "{1: {('徐峥',): 5, ('黄渤',): 6}, 2: {('徐峥', '黄渤'): 5}}\n",
      "[{徐峥} -> {黄渤}]\n"
     ]
    }
   ],
   "source": [
    "from efficient_apriori import apriori\n",
    "import csv\n",
    "director = u'宁浩'\n",
    "file_name = '../data/'+director+ '.csv'\n",
    "lists = csv.reader(open(file_name, 'r', encoding='gbk'))\n",
    "# 数据加载\n",
    "data = []\n",
    "for names in lists:\n",
    "     name_new = []\n",
    "     for name in names:\n",
    "           # 去掉演员数据中的空格\n",
    "           name_new.append(name.strip())\n",
    "     data.append(name_new[1:])\n",
    "# 挖掘频繁项集和关联规则\n",
    "itemsets, rules = apriori(data, min_support=0.5,  min_confidence=1)\n",
    "print(itemsets)\n",
    "print(rules)"
   ]
  }
 ],
 "metadata": {
  "kernelspec": {
   "display_name": "py36",
   "language": "python",
   "name": "py36"
  },
  "language_info": {
   "codemirror_mode": {
    "name": "ipython",
    "version": 3
   },
   "file_extension": ".py",
   "mimetype": "text/x-python",
   "name": "python",
   "nbconvert_exporter": "python",
   "pygments_lexer": "ipython3",
   "version": "3.6.8"
  }
 },
 "nbformat": 4,
 "nbformat_minor": 2
}
